{
  "cells": [
    {
      "cell_type": "markdown",
      "metadata": {},
      "source": [
        "Generating a sample Summary"
      ]
    },
    {
      "cell_type": "code",
      "execution_count": 1,
      "metadata": {
        "colab": {
          "base_uri": "https://localhost:8080/"
        },
        "id": "TvpgXxhhwki8",
        "outputId": "166fd30f-7cda-4d7e-d778-9f3dcd4a0bce"
      },
      "outputs": [
        {
          "name": "stdout",
          "output_type": "stream",
          "text": [
            "Collecting sumy\n",
            "  Downloading sumy-0.11.0-py2.py3-none-any.whl.metadata (7.5 kB)\n",
            "Collecting docopt<0.7,>=0.6.1 (from sumy)\n",
            "  Downloading docopt-0.6.2.tar.gz (25 kB)\n",
            "  Preparing metadata (setup.py) ... \u001b[?25l\u001b[?25hdone\n",
            "Collecting breadability>=0.1.20 (from sumy)\n",
            "  Downloading breadability-0.1.20.tar.gz (32 kB)\n",
            "  Preparing metadata (setup.py) ... \u001b[?25l\u001b[?25hdone\n",
            "Requirement already satisfied: requests>=2.7.0 in /usr/local/lib/python3.11/dist-packages (from sumy) (2.32.3)\n",
            "Collecting pycountry>=18.2.23 (from sumy)\n",
            "  Downloading pycountry-24.6.1-py3-none-any.whl.metadata (12 kB)\n",
            "Requirement already satisfied: nltk>=3.0.2 in /usr/local/lib/python3.11/dist-packages (from sumy) (3.9.1)\n",
            "Requirement already satisfied: chardet in /usr/local/lib/python3.11/dist-packages (from breadability>=0.1.20->sumy) (5.2.0)\n",
            "Requirement already satisfied: lxml>=2.0 in /usr/local/lib/python3.11/dist-packages (from breadability>=0.1.20->sumy) (5.3.1)\n",
            "Requirement already satisfied: click in /usr/local/lib/python3.11/dist-packages (from nltk>=3.0.2->sumy) (8.1.8)\n",
            "Requirement already satisfied: joblib in /usr/local/lib/python3.11/dist-packages (from nltk>=3.0.2->sumy) (1.4.2)\n",
            "Requirement already satisfied: regex>=2021.8.3 in /usr/local/lib/python3.11/dist-packages (from nltk>=3.0.2->sumy) (2024.11.6)\n",
            "Requirement already satisfied: tqdm in /usr/local/lib/python3.11/dist-packages (from nltk>=3.0.2->sumy) (4.67.1)\n",
            "Requirement already satisfied: charset-normalizer<4,>=2 in /usr/local/lib/python3.11/dist-packages (from requests>=2.7.0->sumy) (3.4.1)\n",
            "Requirement already satisfied: idna<4,>=2.5 in /usr/local/lib/python3.11/dist-packages (from requests>=2.7.0->sumy) (3.10)\n",
            "Requirement already satisfied: urllib3<3,>=1.21.1 in /usr/local/lib/python3.11/dist-packages (from requests>=2.7.0->sumy) (2.3.0)\n",
            "Requirement already satisfied: certifi>=2017.4.17 in /usr/local/lib/python3.11/dist-packages (from requests>=2.7.0->sumy) (2025.1.31)\n",
            "Downloading sumy-0.11.0-py2.py3-none-any.whl (97 kB)\n",
            "\u001b[2K   \u001b[90m━━━━━━━━━━━━━━━━━━━━━━━━━━━━━━━━━━━━━━━━\u001b[0m \u001b[32m97.3/97.3 kB\u001b[0m \u001b[31m4.8 MB/s\u001b[0m eta \u001b[36m0:00:00\u001b[0m\n",
            "\u001b[?25hDownloading pycountry-24.6.1-py3-none-any.whl (6.3 MB)\n",
            "\u001b[2K   \u001b[90m━━━━━━━━━━━━━━━━━━━━━━━━━━━━━━━━━━━━━━━━\u001b[0m \u001b[32m6.3/6.3 MB\u001b[0m \u001b[31m49.9 MB/s\u001b[0m eta \u001b[36m0:00:00\u001b[0m\n",
            "\u001b[?25hBuilding wheels for collected packages: breadability, docopt\n",
            "  Building wheel for breadability (setup.py) ... \u001b[?25l\u001b[?25hdone\n",
            "  Created wheel for breadability: filename=breadability-0.1.20-py2.py3-none-any.whl size=21691 sha256=f2dbddc5e8a63496b99a7dc5138a39a3b89039d6091fe2352df6d2d881232c68\n",
            "  Stored in directory: /root/.cache/pip/wheels/4d/57/58/7e3d7fedf51fe248b7fcee3df6945ae28638e22cddf01eb92b\n",
            "  Building wheel for docopt (setup.py) ... \u001b[?25l\u001b[?25hdone\n",
            "  Created wheel for docopt: filename=docopt-0.6.2-py2.py3-none-any.whl size=13706 sha256=e87de468b1c7dc3f166b979123401d81d4fd4305cb21039301be7de7e445d548\n",
            "  Stored in directory: /root/.cache/pip/wheels/1a/b0/8c/4b75c4116c31f83c8f9f047231251e13cc74481cca4a78a9ce\n",
            "Successfully built breadability docopt\n",
            "Installing collected packages: docopt, pycountry, breadability, sumy\n",
            "Successfully installed breadability-0.1.20 docopt-0.6.2 pycountry-24.6.1 sumy-0.11.0\n"
          ]
        }
      ],
      "source": [
        "!pip install sumy"
      ]
    },
    {
      "cell_type": "code",
      "execution_count": 2,
      "metadata": {
        "colab": {
          "base_uri": "https://localhost:8080/"
        },
        "id": "ktT_G8tbwv0j",
        "outputId": "60e27606-8057-4abe-e04d-b97cfd6655da"
      },
      "outputs": [
        {
          "name": "stderr",
          "output_type": "stream",
          "text": [
            "[nltk_data] Downloading package punkt_tab to /root/nltk_data...\n",
            "[nltk_data]   Unzipping tokenizers/punkt_tab.zip.\n"
          ]
        }
      ],
      "source": [
        "import nltk\n",
        "import pandas as pd\n",
        "from sumy.parsers.plaintext import PlaintextParser\n",
        "from sumy.nlp.tokenizers import Tokenizer as SumyTokenizer\n",
        "from sumy.summarizers.lex_rank import LexRankSummarizer\n",
        "from tqdm import tqdm\n",
        "nltk.download(\"punkt_tab\")\n",
        "\n",
        "# Initialize LexRank summarizer once\n",
        "summarizer = LexRankSummarizer()\n",
        "\n",
        "def lexrank_summarize(article_text, base_sentences=5):\n",
        "    try:\n",
        "        word_count = len(article_text.split())\n",
        "\n",
        "        # Dynamically set number of sentences based on article length\n",
        "        if word_count > 5000:\n",
        "            num_sentences = base_sentences + 5  # e.g., 10 sentences\n",
        "        elif word_count > 2000:\n",
        "            num_sentences = base_sentences + 2  # e.g., 7 sentences\n",
        "        else:\n",
        "            num_sentences = base_sentences      # e.g., 5 sentences\n",
        "\n",
        "        # Parse the text and summarize\n",
        "        parser = PlaintextParser.from_string(article_text, SumyTokenizer(\"english\"))\n",
        "        summary_sentences = summarizer(parser.document, num_sentences)\n",
        "\n",
        "        # Join sentences into a single summary text\n",
        "        summary_text = \" \".join(str(sentence) for sentence in summary_sentences)\n",
        "\n",
        "        # Fallback to original article if summary is empty\n",
        "        return summary_text if summary_text.strip() != \"\" else article_text\n",
        "\n",
        "    except Exception as e:\n",
        "        print(f\"Error summarizing article: {e}\")\n",
        "        return article_text"
      ]
    },
    {
      "cell_type": "code",
      "execution_count": null,
      "metadata": {
        "colab": {
          "base_uri": "https://localhost:8080/"
        },
        "id": "3q0fyuNtwzI7",
        "outputId": "3a2adc63-2182-4c5f-a32a-cf93b7fbd317"
      },
      "outputs": [
        {
          "name": "stdout",
          "output_type": "stream",
          "text": [
            "extractive_summary : \n",
            "the first study found that working memory performance was worse in lpd patients with anxiety compared to rpd patients with anxiety , whereas the second study reported that , in lpd , apathy but not anxiety was associated with performance on nonverbally mediated executive functions and visuospatial tasks ( e.g. , tmt - b , wms - iii spatial span ) , while in rpd , anxiety but not apathy significantly correlated with performance on verbally mediated tasks ( e.g. , clock reading test and boston naming test ) . more specifically , we found that pd patients with anxiety were more impaired on the trail making test part b which assessed attentional set - shifting , on both digit span tests which assessed working memory and attention , and to a lesser extent on the logical memory test which assessed memory and new verbal learning compared to pd patients without anxiety . therefore , chronic stress from anxiety , for example , may disrupt compensatory processes in pd patients and explain the cognitive impairments specifically in working memory and attention seen in pd patients with anxiety . results from this study showed selective verbal memory deficits in rpd patients with anxiety compared to rpd without anxiety , whereas lpd patients with anxiety had greater attentional / working memory deficits compared to lpd without anxiety . although there was a trend that the pda+ group self - reported higher levels of depression than the pda group , all participants included in the study scored < 6 on the depression subscale of the hads . considering many previous studies have investigated the influence of depression on cognition in pd without accounting for the presence of anxiety and the inconsistent findings reported to date , we recommend that future research should try to disentangle the influence of anxiety versus depression on cognitive impairments in pd . moreover , anxiety has been suggested to play a key role in freezing of gait ( fog ) , which is also related to attentional set - shifting [ 52 , 53 ] .\n",
            "summary with only t5 : \n",
            "objective. to investigate the relationship between anxiety and cognition in patients with parkinson's disease ( pd ) and its neural basis and best treatment practices.materials and methods. a total of 27 patients with pd with pd were enrolled in this study. cognitive performance was assessed by the rbans ( i.e., immediate memory, visuospatial construction, language, attention, and delayed memory ). cognitive performance was assessed by the rbans ( i.e., apathy, and anhedonia ). apathy and anhedonia were significantly higher in pd patients compared to rpd patients with pd patients with parkinson's disease ( rpd ) compared to right - sided dominant pd ( rpd ), whereas\n",
            "Final Generated summary : \n",
            "background : chronic stress from anxiety may disrupt compensatory processes in pd.objectives:the aim of this study was to investigate the influence of anxiety versus depression on cognitive impairments in pd.materials and methods : this was a cross - sectional study. a total of 69 patients with pd with anxiety were included in this study. the pda+ group self - reported higher levels of depression than the pda+ group self - reported higher levels of depression compared to rpd patients without anxiety, whereas the pda+ group self - reported greater attentional / working memory deficits in pd patients with anxiety compared to rpd without anxiety.results:the pda+ group self - reported greater attentional / working memory deficits in pd patients with anxiety compared to rpd without anxiety.\n"
          ]
        }
      ],
      "source": [
        "import pandas as pd\n",
        "import torch\n",
        "from transformers import T5ForConditionalGeneration, T5Tokenizer\n",
        "\n",
        "# Path to your checkpoint\n",
        "checkpoint_dir = \"epoch5-t5\"\n",
        "\n",
        "# Load model from checkpoint (ensure 'from_pretrained' points to the checkpoint path)\n",
        "model = T5ForConditionalGeneration.from_pretrained(checkpoint_dir)\n",
        "\n",
        "# Load tokenizer (use base model tokenizer if checkpoint lacks tokenizer files)\n",
        "tokenizer = T5Tokenizer.from_pretrained(\"t5-small\")\n",
        "\n",
        "def generate_summary(text, model, tokenizer, max_input_length=512, max_output_length=209):\n",
        "    # Tokenize input text\n",
        "    inputs = tokenizer(text, return_tensors=\"pt\", max_length=max_input_length, truncation=True)\n",
        "    inputs = {k: v.to(model.device) for k, v in inputs.items()}\n",
        "\n",
        "    # Generate summary (adjust parameters for better control)\n",
        "    with torch.no_grad():\n",
        "        output = model.generate(\n",
        "            **inputs,\n",
        "            max_length=max_output_length,\n",
        "            min_length=50,\n",
        "            length_penalty=2.0,  # Penalize longer outputs\n",
        "            num_beams=4,         # Beam search for better quality\n",
        "            early_stopping=True  # Stop when done token is produced\n",
        "        )\n",
        "\n",
        "    # Decode and return the summary\n",
        "    summary = tokenizer.decode(output[0], skip_special_tokens=True)\n",
        "    return summary\n",
        "\n",
        "\n",
        "#df=pd.read_csv(\"pubmed/test.csv\")\n",
        "\n",
        "# Generate the summary\n",
        "#summary = generate_summary(df['article'][0], model, tokenizer)\n",
        "#print()\n",
        "#print(\"Generated Summary:\", summary)\n",
        "\n",
        "article = \"\"\"anxiety affects quality of life in those living with parkinson 's disease ( pd ) more so than overall cognitive status , motor deficits , apathy , and depression [ 13 ] .\n",
        "although anxiety and depression are often related and coexist in pd patients , recent research suggests that anxiety rather than depression is the most prominent and prevalent mood disorder in pd [ 5 , 6 ] . yet ,\n",
        "our current understanding of anxiety and its impact on cognition in pd , as well as its neural basis and best treatment practices , remains meager and lags far behind that of depression .\n",
        "overall , neuropsychiatric symptoms in pd have been shown to be negatively associated with cognitive performance .\n",
        "for example , higher depression scores have been correlated with lower scores on the mini - mental state exam ( mmse ) [ 8 , 9 ] as well as tests of memory and executive functions ( e.g. , attention ) [ 1014 ] .\n",
        "likewise , apathy and anhedonia in pd patients have been associated with executive dysfunction [ 10 , 1523 ] .\n",
        "however , few studies have specifically investigated the relationship between anxiety and cognition in pd .\n",
        "one study showed a strong negative relationship between anxiety ( both state and trait ) and overall cognitive performance ( measured by the total of the repeatable battery for the assessment of neuropsychological status index ) within a sample of 27 pd patients .\n",
        "furthermore , trait anxiety was negatively associated with each of the cognitive domains assessed by the rbans ( i.e. , immediate memory , visuospatial construction , language , attention , and delayed memory ) .\n",
        "two further studies have examined whether anxiety differentially affects cognition in patients with left - sided dominant pd ( lpd ) versus right - sided dominant pd ( rpd ) ; however , their findings were inconsistent .\n",
        "the first study found that working memory performance was worse in lpd patients with anxiety compared to rpd patients with anxiety , whereas the second study reported that , in lpd , apathy but not anxiety was associated with performance on nonverbally mediated executive functions and visuospatial tasks ( e.g. , tmt - b , wms - iii spatial span ) , while in rpd , anxiety but not apathy significantly correlated with performance on verbally mediated tasks ( e.g. , clock reading test and boston naming test ) .\n",
        "furthermore , anxiety was significantly correlated with neuropsychological measures of attention and executive and visuospatial functions . taken together ,\n",
        "it is evident that there are limited and inconsistent findings describing the relationship between anxiety and cognition in pd and more specifically how anxiety might influence particular domains of cognition such as attention and memory and executive functioning .\n",
        "it is also striking that , to date , no study has examined the influence of anxiety on cognition in pd by directly comparing groups of pd patients with and without anxiety while excluding depression .\n",
        "given that research on healthy young adults suggests that anxiety reduces processing capacity and impairs processing efficiency , especially in the central executive and attentional systems of working memory [ 26 , 27 ] , we hypothesized that pd patients with anxiety would show impairments in attentional set - shifting and working memory compared to pd patients without anxiety .\n",
        "furthermore , since previous work , albeit limited , has focused on the influence of symptom laterality on anxiety and cognition , we also explored this relationship .\n",
        "seventeen pd patients with anxiety and thirty - three pd patients without anxiety were included in this study ( see table 1 ) .\n",
        "the cross - sectional data from these participants was taken from a patient database that has been compiled over the past 8 years ( since 2008 ) at the parkinson 's disease research clinic at the brain and mind centre , university of sydney .\n",
        "inclusion criteria involved a diagnosis of idiopathic pd according to the united kingdom parkinson 's disease society brain bank criteria   and were confirmed by a neurologist ( sjgl ) .\n",
        "patients also had to have an adequate proficiency in english and have completed a full neuropsychological assessment .\n",
        "ten patients in this study ( 5 pd with anxiety ; 5 pd without anxiety ) were taking psychotropic drugs ( i.e. , benzodiazepine or selective serotonin reuptake inhibitor ) .\n",
        "patients were also excluded if they had other neurological disorders , psychiatric disorders other than affective disorders ( such as anxiety ) , or if they reported a score greater than six on the depression subscale of the hospital anxiety and depression scale ( hads ) .\n",
        "thus , all participants who scored within a  depressed  ( hads - d > 6 ) range were excluded from this study , in attempt to examine a refined sample of pd patients with and without anxiety in order to determine the independent effect of anxiety on cognition .\n",
        "this research was approved by the human research ethics committee of the university of sydney , and written informed consent was obtained from all participants .\n",
        "self - reported hads was used to assess anxiety in pd and has been previously shown to be a useful measure of clinical anxiety in pd .\n",
        "a cut - off score of > 8 on the anxiety subscale of the hads ( hads - a ) was used to identify pd cases with anxiety ( pda+ ) , while a cut - off score of < 6 on the hads - a was used to identify pd cases without anxiety ( pda ) .\n",
        "this criterion was more stringent than usual ( > 7 cut - off score ) , in effort to create distinct patient groups .\n",
        "the neurological evaluation rated participants according to hoehn and yahr ( h&y ) stages   and assessed their motor symptoms using part iii of the revised mds task force unified parkinson 's disease rating scale ( updrs ) . in a similar way\n",
        "this was determined by calculating a total left and right score from rigidity items 3035 , voluntary movement items 3643 , and tremor items 5057 from the mds - updrs part iii ( see table 1 ) .\n",
        "processing speed was assessed using the trail making test , part a ( tmt - a , z - score ) .\n",
        "attentional set - shifting was measured using the trail making test , part b ( tmt - b , z - score ) .\n",
        "working memory was assessed using the digit span forward and backward subtest of the wechsler memory scale - iii ( raw scores ) .\n",
        "language was assessed with semantic and phonemic verbal fluency via the controlled oral word associated test ( cowat animals and letters , z - score ) .\n",
        "the ability to retain learned verbal memory was assessed using the logical memory subtest from the wechsler memory scale - iii ( lm - i z - score , lm - ii z - score , % lm retention z - score ) . the mini - mental state examination ( mmse )\n",
        "demographic , clinical , and neuropsychological variables were compared between the two groups with the independent t - test or mann  whitney u test , depending on whether the variable met parametric assumptions .\n",
        "chi - square tests were used to examine gender and symptom laterality differences between groups .\n",
        "all analyses employed an alpha level of p < 0.05 and were two - tailed .\n",
        "spearman correlations were performed separately in each group to examine associations between anxiety and/or depression ratings and cognitive functions .\n",
        "as expected , the pda+ group reported significant greater levels of anxiety on the hads - a ( u = 0 , p < 0.001 ) and higher total score on the hads ( u = 1 , p < 0.001 ) compared to the pda group ( table 1 ) .\n",
        "groups were matched in age ( t(48 ) = 1.31 , p = 0.20 ) , disease duration ( u = 259 , p = 0.66 ) , updrs - iii score ( u = 250.5 , p = 0.65 ) , h&y ( u = 245 , p = 0.43 ) , ledd ( u = 159.5 , p = 0.80 ) , and depression ( hads - d ) ( u = 190.5 , p = 0.06 ) .\n",
        "additionally , all groups were matched in the distribution of gender (  = 0.098 , p = 0.75 ) and side - affected (  = 0.765 , p = 0.38 ) .\n",
        "there were no group differences for tmt - a performance ( u = 256 , p = 0.62 ) ( table 2 ) ; however , the pda+ group had worse performance on the trail making test part b ( t(46 ) = 2.03 , p = 0.048 ) compared to the pda group ( figure 1 ) .\n",
        "the pda+ group also demonstrated significantly worse performance on the digit span forward subtest ( t(48 ) = 2.22 , p = 0.031 ) and backward subtest ( u = 190.5 , p = 0.016 ) compared to the pda group ( figures 2(a ) and 2(b ) ) .\n",
        "neither semantic verbal fluency ( t(47 ) = 0.70 , p = 0.49 ) nor phonemic verbal fluency ( t(47 ) = 0.39 , p = 0.70 ) differed between groups .\n",
        "logical memory i immediate recall test ( u = 176 , p = 0.059 ) showed a trend that the pda+ group had worse new verbal learning and immediate recall abilities than the pda group . however , logical memory ii test performance ( u = 219 , p = 0.204 ) and logical memory % retention ( u = 242.5 , p = 0.434 ) did not differ between groups .\n",
        "there were also no differences between groups in global cognition ( mmse ) ( u = 222.5 , p = 0.23 ) .\n",
        "participants were split into lpd and rpd , and then further group differences were examined between pda+ and pda. importantly , the groups remained matched in age , disease duration , updrs - iii , dde , h&y stage , and depression but remained significantly different on self - reported anxiety .\n",
        "lpda+ demonstrated worse performance on the digit span forward test ( t(19 ) = 2.29 , p = 0.033 ) compared to lpda , whereas rpda+ demonstrated worse performance on the digit span backward test ( u = 36.5 , p = 0.006 ) , lm - i immediate recall ( u = 37.5 , p = 0.008 ) , and lm - ii ( u = 45.0 , p = 0.021 ) but not lm % retention ( u = 75.5 , p = 0.39 ) compared to rpda.\n",
        "this study is the first to directly compare cognition between pd patients with and without anxiety .\n",
        "the findings confirmed our hypothesis that anxiety negatively influences attentional set - shifting and working memory in pd .\n",
        "more specifically , we found that pd patients with anxiety were more impaired on the trail making test part b which assessed attentional set - shifting , on both digit span tests which assessed working memory and attention , and to a lesser extent on the logical memory test which assessed memory and new verbal learning compared to pd patients without anxiety . taken together ,\n",
        "these findings suggest that anxiety in pd may reduce processing capacity and impair processing efficiency , especially in the central executive and attentional systems of working memory in a similar way as seen in young healthy adults [ 26 , 27 ] .\n",
        "although the neurobiology of anxiety in pd remains unknown , many researchers have postulated that anxiety disorders are related to neurochemical changes that occur during the early , premotor stages of pd - related degeneration [ 37 , 38 ] such as nigrostriatal dopamine depletion , as well as cell loss within serotonergic and noradrenergic brainstem nuclei ( i.e. , raphe nuclei and locus coeruleus , resp . , which provide massive inputs to corticolimbic regions ) . over time\n",
        ", chronic dysregulation of adrenocortical and catecholamine functions can lead to hippocampal damage as well as dysfunctional prefrontal neural circuitries [ 39 , 40 ] , which play a key role in memory and attention .\n",
        "recent functional neuroimaging work has suggested that enhanced hippocampal activation during executive functioning and working memory tasks may represent compensatory processes for impaired frontostriatal functions in pd patients compared to controls . therefore , chronic stress from anxiety ,\n",
        "for example , may disrupt compensatory processes in pd patients and explain the cognitive impairments specifically in working memory and attention seen in pd patients with anxiety .\n",
        "it has also been suggested that hyperactivation within the putamen may reflect a compensatory striatal mechanism to maintain normal working memory performance in pd patients ; however , losing this compensatory activation has been shown to contribute to poor working memory performance .\n",
        "anxiety in mild pd has been linked to reduced putamen dopamine uptake which becomes more extensive as the disease progresses .\n",
        "this further supports the notion that anxiety may disrupt compensatory striatal mechanisms as well , providing another possible explanation for the cognitive impairments observed in pd patients with anxiety in this study .\n",
        "noradrenergic and serotonergic systems should also be considered when trying to explain the mechanisms by which anxiety may influence cognition in pd . although these neurotransmitter systems are relatively understudied in pd cognition , treating the noradrenergic and serotonergic systems has shown beneficial effects on cognition in pd .\n",
        "selective serotonin reuptake inhibitor , citalopram , was shown to improve response inhibition deficits in pd , while noradrenaline reuptake blocker , atomoxetine , has been recently reported to have promising effects on cognition in pd [ 45 , 46 ] .\n",
        "overall , very few neuroimaging studies have been conducted in pd in order to understand the neural correlates of pd anxiety and its underlying neural pathology .\n",
        "future research should focus on relating anatomical changes and neurochemical changes to neural activation in order to gain a clearer understanding on how these pathologies affect anxiety in pd . to further understand how anxiety and cognitive dysfunction are related ,\n",
        "future research should focus on using advanced structural and function imaging techniques to explain both cognitive and neural breakdowns that are associated with anxiety in pd patients .\n",
        "research has indicated that those with amnestic mild cognitive impairment who have more neuropsychiatric symptoms have a greater risk of developing dementia compared to those with fewer neuropsychiatric symptoms .\n",
        "future studies should also examine whether treating neuropsychiatric symptoms might impact the progression of cognitive decline and improve cognitive impairments in pd patients .\n",
        "previous studies have used pd symptom laterality as a window to infer asymmetrical dysfunction of neural circuits .\n",
        "for example , lpd patients have greater inferred right hemisphere pathology , whereas rpd patients have greater inferred left hemisphere pathology .\n",
        "thus , cognitive domains predominantly subserved by the left hemisphere ( e.g. , verbally mediated tasks of executive function and verbal memory ) might be hypothesized to be more affected in rpd than lpd ; however , this remains controversial .\n",
        "it has also been suggested that since anxiety is a common feature of left hemisphere involvement [ 48 , 49 ] , cognitive domains subserved by the left hemisphere may also be more strongly related to anxiety .\n",
        "results from this study showed selective verbal memory deficits in rpd patients with anxiety compared to rpd without anxiety , whereas lpd patients with anxiety had greater attentional / working memory deficits compared to lpd without anxiety .\n",
        "although these results align with previous research , interpretations of these findings should be made with caution due to the small sample size in the lpd comparison specifically .\n",
        "recent work has suggested that the hads questionnaire may underestimate the burden of anxiety related symptomology and therefore be a less sensitive measure of anxiety in pd [ 30 , 50 ] . in addition , our small sample size also limited the statistical power for detecting significant findings .\n",
        "based on these limitations , our findings are likely conservative and underrepresent the true impact anxiety has on cognition in pd . additionally , the current study employed a very brief neuropsychological assessment including one or two tests for each cognitive domain .\n",
        "future studies are encouraged to collect a more complex and comprehensive battery from a larger sample of pd participants in order to better understand the role anxiety plays on cognition in pd .\n",
        "another limitation of this study was the absence of diagnostic interviews to characterize participants ' psychiatric symptoms and specify the type of anxiety disorders included in this study .\n",
        "future studies should perform diagnostic interviews with participants ( e.g. , using dsm - v criteria ) rather than relying on self - reported measures to group participants , in order to better understand whether the type of anxiety disorder ( e.g. , social anxiety , phobias , panic disorders , and generalized anxiety ) influences cognitive performance differently in pd .\n",
        "one advantage the hads questionnaire provided over other anxiety scales was that it assessed both anxiety and depression simultaneously and allowed us to control for coexisting depression .\n",
        "although there was a trend that the pda+ group self - reported higher levels of depression than the pda group , all participants included in the study scored < 6 on the depression subscale of the hads .\n",
        "controlling for depression while assessing anxiety has been identified as a key shortcoming in the majority of recent work .\n",
        "considering many previous studies have investigated the influence of depression on cognition in pd without accounting for the presence of anxiety and the inconsistent findings reported to date , we recommend that future research should try to disentangle the influence of anxiety versus depression on cognitive impairments in pd . considering the growing number of clinical trials for treating depression , there are few if any for the treatment of anxiety in pd .\n",
        "anxiety is a key contributor to decreased quality of life in pd and greatly requires better treatment options .\n",
        "moreover , anxiety has been suggested to play a key role in freezing of gait ( fog ) , which is also related to attentional set - shifting [ 52 , 53 ] .\n",
        "future research should examine the link between anxiety , set - shifting , and fog , in order to determine whether treating anxiety might be a potential therapy for improving fog .\"\"\"\n",
        "\n",
        "extractive_summary = lexrank_summarize(article)\n",
        "print(\"extractive_summary : \")\n",
        "print(extractive_summary)\n",
        "print(\"summary with only t5 : \")\n",
        "print(generate_summary(article, model, tokenizer))\n",
        "summary = generate_summary(extractive_summary, model, tokenizer)\n",
        "print(\"Final Generated summary : \")\n",
        "print(summary)\n"
      ]
    },
    {
      "cell_type": "code",
      "execution_count": 4,
      "metadata": {
        "colab": {
          "base_uri": "https://localhost:8080/"
        },
        "id": "M9-l3xPeyUMv",
        "outputId": "f125cf32-8874-4b23-a2f5-1a324b7d707c"
      },
      "outputs": [
        {
          "name": "stdout",
          "output_type": "stream",
          "text": [
            "Collecting rouge_score\n",
            "  Downloading rouge_score-0.1.2.tar.gz (17 kB)\n",
            "  Preparing metadata (setup.py) ... \u001b[?25l\u001b[?25hdone\n",
            "Requirement already satisfied: absl-py in /usr/local/lib/python3.11/dist-packages (from rouge_score) (1.4.0)\n",
            "Requirement already satisfied: nltk in /usr/local/lib/python3.11/dist-packages (from rouge_score) (3.9.1)\n",
            "Requirement already satisfied: numpy in /usr/local/lib/python3.11/dist-packages (from rouge_score) (2.0.2)\n",
            "Requirement already satisfied: six>=1.14.0 in /usr/local/lib/python3.11/dist-packages (from rouge_score) (1.17.0)\n",
            "Requirement already satisfied: click in /usr/local/lib/python3.11/dist-packages (from nltk->rouge_score) (8.1.8)\n",
            "Requirement already satisfied: joblib in /usr/local/lib/python3.11/dist-packages (from nltk->rouge_score) (1.4.2)\n",
            "Requirement already satisfied: regex>=2021.8.3 in /usr/local/lib/python3.11/dist-packages (from nltk->rouge_score) (2024.11.6)\n",
            "Requirement already satisfied: tqdm in /usr/local/lib/python3.11/dist-packages (from nltk->rouge_score) (4.67.1)\n",
            "Building wheels for collected packages: rouge_score\n",
            "  Building wheel for rouge_score (setup.py) ... \u001b[?25l\u001b[?25hdone\n",
            "  Created wheel for rouge_score: filename=rouge_score-0.1.2-py3-none-any.whl size=24935 sha256=2e81fda566b023bd5c194538483471f5397d6c4729ed8597f7cf515fa385c2d0\n",
            "  Stored in directory: /root/.cache/pip/wheels/1e/19/43/8a442dc83660ca25e163e1bd1f89919284ab0d0c1475475148\n",
            "Successfully built rouge_score\n",
            "Installing collected packages: rouge_score\n",
            "Successfully installed rouge_score-0.1.2\n"
          ]
        }
      ],
      "source": [
        "!pip install rouge_score"
      ]
    },
    {
      "cell_type": "markdown",
      "metadata": {},
      "source": [
        "Calculating the Rouge Score of the single generated summary"
      ]
    },
    {
      "cell_type": "code",
      "execution_count": 5,
      "metadata": {
        "colab": {
          "base_uri": "https://localhost:8080/"
        },
        "id": "aCJmUOyOxkpY",
        "outputId": "48c2dbe3-6c1c-4c7e-b6ef-625624343062"
      },
      "outputs": [
        {
          "name": "stdout",
          "output_type": "stream",
          "text": [
            "{'rouge1': Score(precision=0.5454545454545454, recall=0.3687150837988827, fmeasure=0.44), 'rouge2': Score(precision=0.15, recall=0.10112359550561797, fmeasure=0.12080536912751677), 'rougeL': Score(precision=0.2892561983471074, recall=0.19553072625698323, fmeasure=0.2333333333333333)}\n"
          ]
        }
      ],
      "source": [
        "from rouge_score import rouge_scorer\n",
        "\n",
        "scorer = rouge_scorer.RougeScorer(['rouge1', 'rouge2', 'rougeL'], use_stemmer=True)\n",
        "candidate = summary\n",
        "reference = \"\"\"research on the implications of anxiety in parkinson 's disease ( pd ) has been neglected despite its prevalence in nearly 50% of patients and its negative impact on quality of life .\n",
        " previous reports have noted that neuropsychiatric symptoms impair cognitive performance in pd patients ; however , to date , no study has directly compared pd patients with and without anxiety to examine the impact of anxiety on cognitive impairments in pd .\n",
        " this study compared cognitive performance across 50 pd participants with and without anxiety ( 17 pda+ ; 33 pda ) , who underwent neurological and neuropsychological assessment .\n",
        " group performance was compared across the following cognitive domains : simple attention / visuomotor processing speed , executive function ( e.g. , set - shifting ) , working memory , language , and memory / new verbal learning .\n",
        " results showed that pda+ performed significantly worse on the digit span forward and backward test and part b of the trail making task ( tmt - b ) compared to the pda group .\n",
        " there were no group differences in verbal fluency , logical memory , or tmt - a performance . in conclusion ,\n",
        " anxiety in pd has a measurable impact on working memory and attentional set - shifting .\n",
        "\"\"\"\n",
        "scores = scorer.score(reference, candidate)\n",
        "print(scores)\n"
      ]
    },
    {
      "cell_type": "markdown",
      "metadata": {},
      "source": [
        "Evaluating of test dataset"
      ]
    },
    {
      "cell_type": "code",
      "execution_count": null,
      "metadata": {
        "colab": {
          "base_uri": "https://localhost:8080/"
        },
        "id": "0iEuZ0e31s7B",
        "outputId": "4d0b532d-23f5-43f8-aa05-268ad15017bf"
      },
      "outputs": [
        {
          "name": "stdout",
          "output_type": "stream",
          "text": [
            "                                             article  \\\n",
            "0  in 1912 , crouzon described a syndrome that co...   \n",
            "1  beyond its role of cellular energy currency an...   \n",
            "2  plexiform neurofibroma is the term applied to ...   \n",
            "3  osteosarcoma is a malignancy of mesenchymal ce...   \n",
            "4  generalized convulsive status epilepticus ( gc...   \n",
            "\n",
            "                                            abstract  \\\n",
            "0  crouzon syndrome is one of the most common cra...   \n",
            "1  release and reception of extracellular atp by ...   \n",
            "2  neurofibromas ( nf ) are benign tumors of neur...   \n",
            "3  parosteal osteosarcomas are rare , low - grade...   \n",
            "4  background and purpose : the conventional ther...   \n",
            "\n",
            "                                  extractive_summary  \\\n",
            "0  after his hemoglobin and serum iron levels gra...   \n",
            "1  fast responses to atp are mediated through act...   \n",
            "2  it is a distinct type of neurofibroma that exp...   \n",
            "3  surface tumors are further divided into parost...   \n",
            "4  phenobarbital ( pb ) is added if the seizures ...   \n",
            "\n",
            "                                   candidate_summary  \n",
            "0  crouzon syndrome is a rare complication of hyd...  \n",
            "1  in neutrophils, atp is released in response to...  \n",
            "2  plexiform neurofibroma of the tongue is a dist...  \n",
            "3  parosteal osteogenic sarcoma of the jaws inclu...  \n",
            "4  benzodiazepine - refractory status epilepticus...  \n"
          ]
        }
      ],
      "source": [
        "import pandas as pd\n",
        "\n",
        "# Load the CSV file (adjust the filename/path as needed)\n",
        "df = pd.read_csv('test.csv')  # CSV should have columns: 'article' and 'abstract'\n",
        "\n",
        "# Randomly sample 100 rows from the dataset\n",
        "sample_df = df.sample(n=100, random_state=42).reset_index(drop=True)\n",
        "\n",
        "# Step 1: Generate the extractive summary.\n",
        "sample_df['extractive_summary'] = sample_df['article'].apply(\n",
        "    lambda x: lexrank_summarize(x)\n",
        ")\n",
        "\n",
        "# Step 2: Generate the candidate summary using your model,\n",
        "# where the candidate summary is produced from the extractive summary.\n",
        "sample_df['candidate_summary'] = sample_df['extractive_summary'].apply(\n",
        "    lambda x: generate_summary(x,model,tokenizer)\n",
        ")\n",
        "\n",
        "print(sample_df.head())\n"
      ]
    },
    {
      "cell_type": "code",
      "execution_count": 15,
      "metadata": {
        "colab": {
          "base_uri": "https://localhost:8080/"
        },
        "id": "DFmm3CyyApAV",
        "outputId": "fc18620e-d470-4e3c-a7d1-1b28a4b25eba"
      },
      "outputs": [
        {
          "name": "stdout",
          "output_type": "stream",
          "text": [
            "Average ROUGE scores over 100 samples:\n",
            "ROUGE1: Precision: 0.4435, Recall: 0.3041, F-Measure: 0.3413\n",
            "ROUGE2: Precision: 0.1462, Recall: 0.0989, F-Measure: 0.1115\n",
            "ROUGEL: Precision: 0.2732, Recall: 0.1886, F-Measure: 0.2103\n"
          ]
        }
      ],
      "source": [
        "import pandas as pd\n",
        "from rouge_score import rouge_scorer\n",
        "\n",
        "# Load the DataFrame with stored summaries\n",
        "df = sample_df\n",
        "\n",
        "# Initialize the ROUGE scorer for ROUGE-1, ROUGE-2, and ROUGE-L.\n",
        "scorer = rouge_scorer.RougeScorer(['rouge1', 'rouge2', 'rougeL'], use_stemmer=True)\n",
        "\n",
        "# Prepare to store ROUGE scores.\n",
        "rouge_scores = {\n",
        "    \"rouge1\": {\"precision\": [], \"recall\": [], \"fmeasure\": []},\n",
        "    \"rouge2\": {\"precision\": [], \"recall\": [], \"fmeasure\": []},\n",
        "    \"rougeL\": {\"precision\": [], \"recall\": [], \"fmeasure\": []},\n",
        "}\n",
        "\n",
        "# Iterate over each sample to compute ROUGE scores between the candidate summary and the reference abstract.\n",
        "for idx, row in df.iterrows():\n",
        "    reference = row['abstract']\n",
        "    candidate = row['candidate_summary']\n",
        "\n",
        "    scores = scorer.score(reference, candidate)\n",
        "\n",
        "    # Save the computed scores for each metric.\n",
        "    for metric in scores:\n",
        "        rouge_scores[metric][\"precision\"].append(scores[metric].precision)\n",
        "        rouge_scores[metric][\"recall\"].append(scores[metric].recall)\n",
        "        rouge_scores[metric][\"fmeasure\"].append(scores[metric].fmeasure)\n",
        "\n",
        "# Calculate average ROUGE scores over all samples.\n",
        "avg_scores = {}\n",
        "for metric in rouge_scores:\n",
        "    avg_scores[metric] = {\n",
        "        \"precision\": sum(rouge_scores[metric][\"precision\"]) / len(rouge_scores[metric][\"precision\"]),\n",
        "        \"recall\": sum(rouge_scores[metric][\"recall\"]) / len(rouge_scores[metric][\"recall\"]),\n",
        "        \"fmeasure\": sum(rouge_scores[metric][\"fmeasure\"]) / len(rouge_scores[metric][\"fmeasure\"]),\n",
        "    }\n",
        "\n",
        "print(\"Average ROUGE scores over 100 samples:\")\n",
        "for metric, scores in avg_scores.items():\n",
        "    print(f\"{metric.upper()}: Precision: {scores['precision']:.4f}, Recall: {scores['recall']:.4f}, F-Measure: {scores['fmeasure']:.4f}\")\n"
      ]
    },
    {
      "cell_type": "code",
      "execution_count": null,
      "metadata": {
        "id": "uOHuNQqKINrN"
      },
      "outputs": [],
      "source": [
        "sample_df.to_csv('sample_with_summaries.csv', index=False)"
      ]
    }
  ],
  "metadata": {
    "colab": {
      "provenance": []
    },
    "kernelspec": {
      "display_name": "Python 3",
      "name": "python3"
    },
    "language_info": {
      "name": "python"
    }
  },
  "nbformat": 4,
  "nbformat_minor": 0
}
